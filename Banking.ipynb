{
 "cells": [
  {
   "cell_type": "code",
   "execution_count": 2,
   "id": "9c0de3c9-25b0-424e-a112-1d39c0ea0b13",
   "metadata": {},
   "outputs": [
    {
     "name": "stdout",
     "output_type": "stream",
     "text": [
      "\n",
      "\t\tBANKING SYSTEM\n",
      "\t\t**************\n",
      "0. Account Creation\n",
      "1. Login\n",
      "2. Exit\n"
     ]
    },
    {
     "name": "stdin",
     "output_type": "stream",
     "text": [
      "Enter your choice:  0\n",
      "Enter Name 0\n",
      "Enter Phone number 4\n",
      "Enter username 44\n",
      "Enter password 4\n",
      "Enter initial amount greater than 1000 4\n"
     ]
    },
    {
     "name": "stdout",
     "output_type": "stream",
     "text": [
      "Account created Successfully\n",
      "\n",
      "\t\tBANKING SYSTEM\n",
      "\t\t**************\n",
      "0. Account Creation\n",
      "1. Login\n",
      "2. Exit\n"
     ]
    },
    {
     "name": "stdin",
     "output_type": "stream",
     "text": [
      "Enter your choice:  2\n"
     ]
    },
    {
     "name": "stdout",
     "output_type": "stream",
     "text": [
      "Exit\n"
     ]
    }
   ],
   "source": [
    "class Bank:\n",
    "    def __init__(self,username,nm,passw,balance):\n",
    "        self.username=username\n",
    "        self.balance = balance\n",
    "        self.name=nm\n",
    "        self.password=passw\n",
    "        \n",
    "    def deposit(self,amt):\n",
    "        self.balance += amt\n",
    "        print(\"Deposit successful\")\n",
    "\n",
    "    def withdraw(self,amt):\n",
    "        if amt > self.balance:\n",
    "            print(\"Insufficient funds\")\n",
    "            return\n",
    "        self.balance -= amt\n",
    "        print(\"Withdrawal successful\")\n",
    "                    \n",
    "        \n",
    "        \n",
    "    def login(self,unm,pin):\n",
    "        if(self.username==unm and self.password==pin):\n",
    "            print(\"\\nlogin successful\",self.name)\n",
    "            while True:\n",
    "                print(\"\\n1. Withdraw\")\n",
    "                print(\"2. Deposit\")\n",
    "                print(\"3. Check balance\")\n",
    "                print(\"4. Logout\")\n",
    "                ch = int(input(\"\\nEnter your choice: \"))\n",
    "                if ch == 1 :\n",
    "                    amount = int(input(\"Enter the amount to withdraw: \"))\n",
    "                    self.withdraw(amount)\n",
    "                elif ch == 2:\n",
    "                    amount = int(input(\"Enter the amount to deposit: \"))\n",
    "                    self.deposit(amount)\n",
    "                elif ch == 3:\n",
    "                    print(\"Hi\",self.username,\"Your balance is\", self.balance)\n",
    "\n",
    "                elif ch == 4:\n",
    "                    print(\"Thanks for using this app\",self.username)\n",
    "                    break\n",
    "                else:\n",
    "                    print(\"Invalid choice\")\n",
    "                    \n",
    "        else:\n",
    "            print(\"Login credentilas not valid\\nRETRY.......\")\n",
    "\n",
    "    \n",
    "\n",
    "    \n",
    "while True:\n",
    "        print(\"\\n\\t\\tBANKING SYSTEM\\n\\t\\t**************\\n0. Account Creation\\n1. Login\")\n",
    "        print(\"2. Exit\")\n",
    "        \n",
    "        choice = int(input(\"Enter your choice: \"))\n",
    "        if choice==0:\n",
    "            nm=input(\"Enter Name\")\n",
    "            phn=int(input(\"Enter Phone number\"))\n",
    "            username=input(\"Enter username\")\n",
    "            passwd=input(\"Enter password\")\n",
    "            init_amt=float(input(\"Enter initial amount greater than 1000\"))\n",
    "            print(\"Account created Successfully\")\n",
    "            b=Bank(username,nm,passwd,init_amt)\n",
    "        elif choice==1:\n",
    "            u=input(\"Enter username\")\n",
    "            pin=input(\"Enter password\")\n",
    "            b.login(u,pin)\n",
    "        elif choice == 2:\n",
    "            print(\"Exit\")\n",
    "            break\n",
    "        else:\n",
    "            print(\"Invalid choice\")"
   ]
  },
  {
   "cell_type": "code",
   "execution_count": null,
   "id": "31040709-d50c-4a20-8796-eb6831d3baf6",
   "metadata": {},
   "outputs": [],
   "source": []
  }
 ],
 "metadata": {
  "kernelspec": {
   "display_name": "Python 3 (ipykernel)",
   "language": "python",
   "name": "python3"
  },
  "language_info": {
   "codemirror_mode": {
    "name": "ipython",
    "version": 3
   },
   "file_extension": ".py",
   "mimetype": "text/x-python",
   "name": "python",
   "nbconvert_exporter": "python",
   "pygments_lexer": "ipython3",
   "version": "3.11.7"
  }
 },
 "nbformat": 4,
 "nbformat_minor": 5
}
